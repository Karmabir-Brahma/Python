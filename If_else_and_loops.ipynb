{
  "nbformat": 4,
  "nbformat_minor": 0,
  "metadata": {
    "colab": {
      "provenance": [],
      "authorship_tag": "ABX9TyMGuhWPw234ywfWgnP4vRag",
      "include_colab_link": true
    },
    "kernelspec": {
      "name": "python3",
      "display_name": "Python 3"
    },
    "language_info": {
      "name": "python"
    }
  },
  "cells": [
    {
      "cell_type": "markdown",
      "metadata": {
        "id": "view-in-github",
        "colab_type": "text"
      },
      "source": [
        "<a href=\"https://colab.research.google.com/github/Karmabir-Brahma/Python/blob/master/If_else_and_loops.ipynb\" target=\"_parent\"><img src=\"https://colab.research.google.com/assets/colab-badge.svg\" alt=\"Open In Colab\"/></a>"
      ]
    },
    {
      "cell_type": "markdown",
      "source": [
        "# **Q) Write a program that asks the user to enter a number. Program should then return either the number is even or odd.**"
      ],
      "metadata": {
        "id": "tKuW1hjd3oQ4"
      }
    },
    {
      "cell_type": "code",
      "source": [
        "num = input(\"Enter an integer: \")\n",
        "num = int(num)\n",
        "\n",
        "if num%2==0:\n",
        "  print(num,\" is an even integer\")\n",
        "else:\n",
        "  print(num,\" is an odd integer\")"
      ],
      "metadata": {
        "colab": {
          "base_uri": "https://localhost:8080/"
        },
        "id": "zvgJqStj4EaB",
        "outputId": "962a9665-a880-4b76-915c-3103167a2d28"
      },
      "execution_count": 3,
      "outputs": [
        {
          "output_type": "stream",
          "name": "stdout",
          "text": [
            "Enter an integer: 90\n",
            "90  is an even integer\n"
          ]
        }
      ]
    },
    {
      "cell_type": "markdown",
      "source": [
        "# **Q) Write a program that asks user to enter dish name and it should print which cusine is that dish.**"
      ],
      "metadata": {
        "id": "lpyClALwgE6A"
      }
    },
    {
      "cell_type": "code",
      "source": [
        "indian = [\"Tea\",\"Idli\",\"Dosa\",\"Samosa\",\"Sambar\"]\n",
        "chinese = [\"Noodles\",\"Shushi\",\"Fujian\",\"Hunan\"]\n",
        "italian = [\"Pizza\",\"Pasta\",\"Risotto\",\"Panini\"]\n",
        "\n",
        "dish = input(\"Enter a cusine: \")\n",
        "if dish in indian:\n",
        "  print(dish,\"is Indian cusine\")\n",
        "elif dish in chinese:\n",
        "  print(dish,\"is Chinese cusine\")\n",
        "elif dish in italian:\n",
        "  print(dish,\"is Italian cusine\")\n",
        "else:\n",
        "  print(dish,\"is not in list\")"
      ],
      "metadata": {
        "colab": {
          "base_uri": "https://localhost:8080/"
        },
        "id": "ymjr7r5Xf_Y6",
        "outputId": "a77c6351-d899-4654-9270-be84a1c3eca0"
      },
      "execution_count": 4,
      "outputs": [
        {
          "output_type": "stream",
          "name": "stdout",
          "text": [
            "Enter a cusine: Hunan\n",
            "Hunan is Chinese\n"
          ]
        }
      ]
    },
    {
      "cell_type": "markdown",
      "source": [
        "# **Loops**"
      ],
      "metadata": {
        "id": "yDiDKX6PATef"
      }
    },
    {
      "cell_type": "markdown",
      "source": [
        "# **Q) Write a program that stores monthly expenses in a list and find out total expenses for all months**"
      ],
      "metadata": {
        "id": "T0D9II4ktfmE"
      }
    },
    {
      "cell_type": "code",
      "source": [
        "expenses = [2500,2800,2100,3000,1900,3000,2200,1500,2000,3300,2700,2300]\n",
        "total=0\n",
        "for i in expenses:\n",
        "  total += i\n",
        "print(total)"
      ],
      "metadata": {
        "colab": {
          "base_uri": "https://localhost:8080/"
        },
        "id": "ECZWs3uCteFl",
        "outputId": "d158d8c8-4ae8-4f50-c321-19c46e58a338"
      },
      "execution_count": 6,
      "outputs": [
        {
          "output_type": "stream",
          "name": "stdout",
          "text": [
            "29300\n"
          ]
        }
      ]
    },
    {
      "cell_type": "markdown",
      "source": [
        "# **Range function**"
      ],
      "metadata": {
        "id": "X5SPAOdVw6PP"
      }
    },
    {
      "cell_type": "code",
      "source": [
        "for i in range(5):\n",
        "  print(i)"
      ],
      "metadata": {
        "colab": {
          "base_uri": "https://localhost:8080/"
        },
        "id": "WOGElJDmw1fp",
        "outputId": "dcd0f7ef-4cc6-4944-98e8-8d97ac66a18b"
      },
      "execution_count": 10,
      "outputs": [
        {
          "output_type": "stream",
          "name": "stdout",
          "text": [
            "0\n",
            "1\n",
            "2\n",
            "3\n",
            "4\n"
          ]
        }
      ]
    },
    {
      "cell_type": "code",
      "source": [
        "for i in range(1,11):\n",
        "  print(i)"
      ],
      "metadata": {
        "colab": {
          "base_uri": "https://localhost:8080/"
        },
        "id": "TGs5j6FQxv6G",
        "outputId": "193bda2d-0c02-4124-aa43-8937b6d07d74"
      },
      "execution_count": 11,
      "outputs": [
        {
          "output_type": "stream",
          "name": "stdout",
          "text": [
            "1\n",
            "2\n",
            "3\n",
            "4\n",
            "5\n",
            "6\n",
            "7\n",
            "8\n",
            "9\n",
            "10\n"
          ]
        }
      ]
    },
    {
      "cell_type": "code",
      "source": [
        "for i in range(1,12,2):\n",
        "  print(i)"
      ],
      "metadata": {
        "colab": {
          "base_uri": "https://localhost:8080/"
        },
        "id": "jn2UyQmqx4Oh",
        "outputId": "4fb7eed4-3845-4e8f-e9b0-aa2d4f8297e1"
      },
      "execution_count": 12,
      "outputs": [
        {
          "output_type": "stream",
          "name": "stdout",
          "text": [
            "1\n",
            "3\n",
            "5\n",
            "7\n",
            "9\n",
            "11\n"
          ]
        }
      ]
    },
    {
      "cell_type": "markdown",
      "source": [
        "# **Q)In our monthly expense example, print month number and expense and then in the end print total expense**"
      ],
      "metadata": {
        "id": "RYoBBRivyKn2"
      }
    },
    {
      "cell_type": "code",
      "source": [
        "expenses = [2500,2800,2100,3000,1900,3000,2200,1500,2000,3300,2700,2300]\n",
        "total=0\n",
        "\n",
        "for i in range(len(expenses)):\n",
        "  print(\"Month\",i+1,\" expense is\",expenses[i])\n",
        "  total += expenses[i]\n",
        "print(\"Total expense is\",total)"
      ],
      "metadata": {
        "colab": {
          "base_uri": "https://localhost:8080/"
        },
        "id": "BZLlkadLxTI7",
        "outputId": "99255879-7b44-40ec-f37f-f009db055678"
      },
      "execution_count": 14,
      "outputs": [
        {
          "output_type": "stream",
          "name": "stdout",
          "text": [
            "Month 1  expense is 2500\n",
            "Month 2  expense is 2800\n",
            "Month 3  expense is 2100\n",
            "Month 4  expense is 3000\n",
            "Month 5  expense is 1900\n",
            "Month 6  expense is 3000\n",
            "Month 7  expense is 2200\n",
            "Month 8  expense is 1500\n",
            "Month 9  expense is 2000\n",
            "Month 10  expense is 3300\n",
            "Month 11  expense is 2700\n",
            "Month 12  expense is 2300\n",
            "Total expense is 29300\n"
          ]
        }
      ]
    },
    {
      "cell_type": "code",
      "source": [
        "key_location = \"chair\"\n",
        "locations = [\"garage\",\"living room\",\"chair\",\"closet\"]\n",
        "\n",
        "if key_location in locations:\n",
        "  print(\"key is found in\",key_location)"
      ],
      "metadata": {
        "colab": {
          "base_uri": "https://localhost:8080/"
        },
        "id": "4nVxl01l2QkL",
        "outputId": "bbf154b0-9c32-4b72-cbb0-d7d2c2a92e64"
      },
      "execution_count": 15,
      "outputs": [
        {
          "output_type": "stream",
          "name": "stdout",
          "text": [
            "key is found in chair\n"
          ]
        }
      ]
    },
    {
      "cell_type": "markdown",
      "source": [
        "# **Q)Print square of numbers from 1 to 10 except even numbers**"
      ],
      "metadata": {
        "id": "-cuJvUkX8BCc"
      }
    },
    {
      "cell_type": "code",
      "source": [
        "for i in range(1,11):\n",
        "  if(i%2==0):\n",
        "    continue\n",
        "  else:\n",
        "    print(\"Square of\",i,\"is\",i*i)"
      ],
      "metadata": {
        "colab": {
          "base_uri": "https://localhost:8080/"
        },
        "id": "78IBEfA58P8L",
        "outputId": "b5239874-9533-4b2d-ca72-2a77869d3e57"
      },
      "execution_count": 18,
      "outputs": [
        {
          "output_type": "stream",
          "name": "stdout",
          "text": [
            "Square of 1 is 1\n",
            "Square of 3 is 9\n",
            "Square of 5 is 25\n",
            "Square of 7 is 49\n",
            "Square of 9 is 81\n"
          ]
        }
      ]
    },
    {
      "cell_type": "markdown",
      "source": [
        "# ***Using while loop print all even numbers from 1 to 20***"
      ],
      "metadata": {
        "id": "7s6dbgOb91zt"
      }
    },
    {
      "cell_type": "code",
      "source": [
        "i=1\n",
        "while(i<=20):\n",
        "  if(i%2==0):\n",
        "    print(i)\n",
        "  i = i+1"
      ],
      "metadata": {
        "colab": {
          "base_uri": "https://localhost:8080/"
        },
        "id": "iNi2kveT8MTj",
        "outputId": "409b4eba-9cbe-43e6-ecd9-1ad6bb549ada"
      },
      "execution_count": 22,
      "outputs": [
        {
          "output_type": "stream",
          "name": "stdout",
          "text": [
            "2\n",
            "4\n",
            "6\n",
            "8\n",
            "10\n",
            "12\n",
            "14\n",
            "16\n",
            "18\n",
            "20\n"
          ]
        }
      ]
    }
  ]
}