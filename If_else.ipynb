{
  "nbformat": 4,
  "nbformat_minor": 0,
  "metadata": {
    "colab": {
      "provenance": [],
      "authorship_tag": "ABX9TyMe7wzZ/nf6Q+MR1pPB1qW1",
      "include_colab_link": true
    },
    "kernelspec": {
      "name": "python3",
      "display_name": "Python 3"
    },
    "language_info": {
      "name": "python"
    }
  },
  "cells": [
    {
      "cell_type": "markdown",
      "metadata": {
        "id": "view-in-github",
        "colab_type": "text"
      },
      "source": [
        "<a href=\"https://colab.research.google.com/github/Karmabir-Brahma/Python/blob/master/If_else.ipynb\" target=\"_parent\"><img src=\"https://colab.research.google.com/assets/colab-badge.svg\" alt=\"Open In Colab\"/></a>"
      ]
    },
    {
      "cell_type": "markdown",
      "source": [
        "**Q) Write a program that asks the user to enter a number. Program should then return either the number is even or odd.**"
      ],
      "metadata": {
        "id": "tKuW1hjd3oQ4"
      }
    },
    {
      "cell_type": "code",
      "source": [
        "num = input(\"Enter an integer: \")\n",
        "num = int(num)\n",
        "\n",
        "if num%2==0:\n",
        "  print(num,\" is an even integer\")\n",
        "else:\n",
        "  print(num,\" is an odd integer\")"
      ],
      "metadata": {
        "colab": {
          "base_uri": "https://localhost:8080/"
        },
        "id": "zvgJqStj4EaB",
        "outputId": "962a9665-a880-4b76-915c-3103167a2d28"
      },
      "execution_count": 3,
      "outputs": [
        {
          "output_type": "stream",
          "name": "stdout",
          "text": [
            "Enter an integer: 90\n",
            "90  is an even integer\n"
          ]
        }
      ]
    }
  ]
}