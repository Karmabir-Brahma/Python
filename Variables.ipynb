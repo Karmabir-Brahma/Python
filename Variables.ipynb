{
 "cells": [
  {
   "cell_type": "markdown",
   "id": "01c100f8",
   "metadata": {},
   "source": [
    "# Variables"
   ]
  },
  {
   "cell_type": "markdown",
   "id": "f6936ef7",
   "metadata": {},
   "source": [
    "# List"
   ]
  },
  {
   "cell_type": "code",
   "execution_count": 1,
   "id": "4a95591e",
   "metadata": {},
   "outputs": [
    {
     "name": "stdout",
     "output_type": "stream",
     "text": [
      "[34, 15, 78, 121]\n"
     ]
    }
   ],
   "source": [
    "list_var = [34,15,78,121]\n",
    "print(list_var)"
   ]
  },
  {
   "cell_type": "code",
   "execution_count": 6,
   "id": "23052263",
   "metadata": {},
   "outputs": [
    {
     "name": "stdout",
     "output_type": "stream",
     "text": [
      "34\n",
      "15\n",
      "78\n",
      "121\n"
     ]
    }
   ],
   "source": [
    "for i in list_var:\n",
    "    print(i)"
   ]
  },
  {
   "cell_type": "code",
   "execution_count": 7,
   "id": "abc909b4",
   "metadata": {},
   "outputs": [
    {
     "name": "stdout",
     "output_type": "stream",
     "text": [
      "34\n"
     ]
    }
   ],
   "source": [
    "print(list_var[0])"
   ]
  },
  {
   "cell_type": "code",
   "execution_count": 19,
   "id": "c7408808",
   "metadata": {},
   "outputs": [
    {
     "name": "stdout",
     "output_type": "stream",
     "text": [
      "34\n",
      "15\n",
      "78\n",
      "121\n"
     ]
    }
   ],
   "source": [
    "for i in range(4):\n",
    "    print(list_var[i])"
   ]
  },
  {
   "cell_type": "code",
   "execution_count": 23,
   "id": "65e48357",
   "metadata": {},
   "outputs": [
    {
     "name": "stdout",
     "output_type": "stream",
     "text": [
      "34\n",
      "15\n",
      "78\n",
      "121\n"
     ]
    }
   ],
   "source": [
    "for i in range(len(list_var)):\n",
    "    print(list_var[i])"
   ]
  },
  {
   "cell_type": "code",
   "execution_count": 25,
   "id": "0d94765c",
   "metadata": {},
   "outputs": [
    {
     "name": "stdout",
     "output_type": "stream",
     "text": [
      "[67, 34, 11, 89, 35, 67, 2, 5, 35]\n"
     ]
    }
   ],
   "source": [
    "# New lsit\n",
    "list_variable = [67,34,11,89,35,67,2,5,35]\n",
    "print(list_variable)"
   ]
  },
  {
   "cell_type": "code",
   "execution_count": 35,
   "id": "059d2c62",
   "metadata": {},
   "outputs": [
    {
     "data": {
      "text/plain": [
       "{2, 5, 11, 34, 35, 67, 89}"
      ]
     },
     "execution_count": 35,
     "metadata": {},
     "output_type": "execute_result"
    }
   ],
   "source": [
    "set(list_variable)"
   ]
  },
  {
   "cell_type": "code",
   "execution_count": 30,
   "id": "c48b02fe",
   "metadata": {},
   "outputs": [],
   "source": [
    "ls = list(set(list_variable))"
   ]
  },
  {
   "cell_type": "code",
   "execution_count": 31,
   "id": "3b881e78",
   "metadata": {},
   "outputs": [
    {
     "name": "stdout",
     "output_type": "stream",
     "text": [
      "[67, 34, 11, 89, 35, 67, 2, 5, 35]\n",
      "[34, 67, 35, 2, 5, 11, 89]\n"
     ]
    }
   ],
   "source": [
    "print(list_variable)\n",
    "print(ls)"
   ]
  }
 ],
 "metadata": {
  "kernelspec": {
   "display_name": "Python 3 (ipykernel)",
   "language": "python",
   "name": "python3"
  },
  "language_info": {
   "codemirror_mode": {
    "name": "ipython",
    "version": 3
   },
   "file_extension": ".py",
   "mimetype": "text/x-python",
   "name": "python",
   "nbconvert_exporter": "python",
   "pygments_lexer": "ipython3",
   "version": "3.10.7"
  }
 },
 "nbformat": 4,
 "nbformat_minor": 5
}
