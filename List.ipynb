{
  "nbformat": 4,
  "nbformat_minor": 0,
  "metadata": {
    "colab": {
      "provenance": [],
      "collapsed_sections": [],
      "authorship_tag": "ABX9TyMerK+479ue8jPokKZ/5ldz",
      "include_colab_link": true
    },
    "kernelspec": {
      "name": "python3",
      "display_name": "Python 3"
    },
    "language_info": {
      "name": "python"
    }
  },
  "cells": [
    {
      "cell_type": "markdown",
      "metadata": {
        "id": "view-in-github",
        "colab_type": "text"
      },
      "source": [
        "<a href=\"https://colab.research.google.com/github/Karmabir-Brahma/Python/blob/master/List.ipynb\" target=\"_parent\"><img src=\"https://colab.research.google.com/assets/colab-badge.svg\" alt=\"Open In Colab\"/></a>"
      ]
    },
    {
      "cell_type": "code",
      "execution_count": 3,
      "metadata": {
        "colab": {
          "base_uri": "https://localhost:8080/"
        },
        "id": "9s_gcsE6uOZI",
        "outputId": "e91730eb-4554-4a10-d2ee-df1f6a92b4a7"
      },
      "outputs": [
        {
          "output_type": "stream",
          "name": "stdout",
          "text": [
            "['Soap', 'Colgate', 'Surf', 'Umbrella', 'Hair Oil', 'Body Oil', 'Incense Stick']\n"
          ]
        }
      ],
      "source": [
        "to_buy = [\"Soap\",\"Colgate\",\"Surf\",\"Umbrella\",\"Hair Oil\",\"Body Oil\",\"Incense Stick\"] #List\n",
        "print(to_buy)"
      ]
    },
    {
      "cell_type": "code",
      "source": [
        "print(to_buy[3])"
      ],
      "metadata": {
        "colab": {
          "base_uri": "https://localhost:8080/"
        },
        "id": "ku2j1KzevXOi",
        "outputId": "0c2b99a6-0e1b-4589-93fb-4c426bf31ab2"
      },
      "execution_count": 4,
      "outputs": [
        {
          "output_type": "stream",
          "name": "stdout",
          "text": [
            "Umbrella\n"
          ]
        }
      ]
    },
    {
      "cell_type": "code",
      "source": [
        "to_buy[4] = \"Oil\" #Resassigning the value "
      ],
      "metadata": {
        "id": "rWNsiaytvcl0"
      },
      "execution_count": 5,
      "outputs": []
    },
    {
      "cell_type": "code",
      "source": [
        "print(to_buy)"
      ],
      "metadata": {
        "colab": {
          "base_uri": "https://localhost:8080/"
        },
        "id": "PLH0ghxIvkJm",
        "outputId": "135d11f6-889f-4d89-bd2c-df73b39d2761"
      },
      "execution_count": 6,
      "outputs": [
        {
          "output_type": "stream",
          "name": "stdout",
          "text": [
            "['Soap', 'Colgate', 'Surf', 'Umbrella', 'Oil', 'Body Oil', 'Incense Stick']\n"
          ]
        }
      ]
    },
    {
      "cell_type": "code",
      "source": [
        "to_buy[0:3]"
      ],
      "metadata": {
        "colab": {
          "base_uri": "https://localhost:8080/"
        },
        "id": "i8x5P3N9vzm2",
        "outputId": "31eeba22-b16c-4b5f-e21e-187ba07c9d2a"
      },
      "execution_count": 7,
      "outputs": [
        {
          "output_type": "execute_result",
          "data": {
            "text/plain": [
              "['Soap', 'Colgate', 'Surf']"
            ]
          },
          "metadata": {},
          "execution_count": 7
        }
      ]
    },
    {
      "cell_type": "code",
      "source": [
        "to_buy[1:5]"
      ],
      "metadata": {
        "colab": {
          "base_uri": "https://localhost:8080/"
        },
        "id": "gEp_y2xyv4iH",
        "outputId": "9b685204-915c-488a-b011-3d4b17904c3c"
      },
      "execution_count": 8,
      "outputs": [
        {
          "output_type": "execute_result",
          "data": {
            "text/plain": [
              "['Colgate', 'Surf', 'Umbrella', 'Oil']"
            ]
          },
          "metadata": {},
          "execution_count": 8
        }
      ]
    },
    {
      "cell_type": "code",
      "source": [
        "to_buy[0:]"
      ],
      "metadata": {
        "colab": {
          "base_uri": "https://localhost:8080/"
        },
        "id": "2hZwJMwEwDo7",
        "outputId": "12322833-a875-4644-abaf-57492fd06c24"
      },
      "execution_count": 9,
      "outputs": [
        {
          "output_type": "execute_result",
          "data": {
            "text/plain": [
              "['Soap', 'Colgate', 'Surf', 'Umbrella', 'Oil', 'Body Oil', 'Incense Stick']"
            ]
          },
          "metadata": {},
          "execution_count": 9
        }
      ]
    },
    {
      "cell_type": "code",
      "source": [
        "to_buy[-1] #Prints the last element"
      ],
      "metadata": {
        "colab": {
          "base_uri": "https://localhost:8080/",
          "height": 35
        },
        "id": "uAP9VZyYwR4L",
        "outputId": "7b7966be-ff48-4f53-e99a-11a0b3f3fba3"
      },
      "execution_count": 10,
      "outputs": [
        {
          "output_type": "execute_result",
          "data": {
            "text/plain": [
              "'Incense Stick'"
            ],
            "application/vnd.google.colaboratory.intrinsic+json": {
              "type": "string"
            }
          },
          "metadata": {},
          "execution_count": 10
        }
      ]
    },
    {
      "cell_type": "code",
      "source": [
        "to_buy[-2] #Prints the last second element"
      ],
      "metadata": {
        "colab": {
          "base_uri": "https://localhost:8080/",
          "height": 35
        },
        "id": "WMAdX1_OwUqy",
        "outputId": "23dbfebd-3f25-4365-8993-d18a1b646297"
      },
      "execution_count": 11,
      "outputs": [
        {
          "output_type": "execute_result",
          "data": {
            "text/plain": [
              "'Body Oil'"
            ],
            "application/vnd.google.colaboratory.intrinsic+json": {
              "type": "string"
            }
          },
          "metadata": {},
          "execution_count": 11
        }
      ]
    },
    {
      "cell_type": "code",
      "source": [
        "to_buy.append(\"Copy\") #Inserting element at last of the list\n",
        "print(to_buy)"
      ],
      "metadata": {
        "colab": {
          "base_uri": "https://localhost:8080/"
        },
        "id": "3qE2YrR2wgMK",
        "outputId": "1555ebc3-e04d-4203-eeb3-c693ae8b4846"
      },
      "execution_count": 15,
      "outputs": [
        {
          "output_type": "stream",
          "name": "stdout",
          "text": [
            "['Soap', 'Colgate', 'Surf', 'Umbrella', 'Oil', 'Body Oil', 'Incense Stick', 'Copy', 'Copy', 'Copy', 'Copy']\n"
          ]
        }
      ]
    },
    {
      "cell_type": "code",
      "source": [
        "to_buy.remove(\"Copy\") #Removing from the list\n",
        "print(to_buy)"
      ],
      "metadata": {
        "colab": {
          "base_uri": "https://localhost:8080/"
        },
        "id": "iokZ92YSxEa_",
        "outputId": "979a5bf7-ab55-401e-ead2-34ab77d6c329"
      },
      "execution_count": 19,
      "outputs": [
        {
          "output_type": "stream",
          "name": "stdout",
          "text": [
            "['Soap', 'Colgate', 'Surf', 'Umbrella', 'Oil', 'Body Oil', 'Incense Stick', 'Copy']\n"
          ]
        }
      ]
    },
    {
      "cell_type": "code",
      "source": [
        "to_buy.insert(1,\"Shampoo\") #Inserting element at specific location\n",
        "print(to_buy)"
      ],
      "metadata": {
        "colab": {
          "base_uri": "https://localhost:8080/"
        },
        "id": "1NHeXpovxi1W",
        "outputId": "d8e4fd16-df42-4f56-df8b-40f7ffe8da26"
      },
      "execution_count": 20,
      "outputs": [
        {
          "output_type": "stream",
          "name": "stdout",
          "text": [
            "['Soap', 'Shampoo', 'Colgate', 'Surf', 'Umbrella', 'Oil', 'Body Oil', 'Incense Stick', 'Copy']\n"
          ]
        }
      ]
    },
    {
      "cell_type": "code",
      "source": [],
      "metadata": {
        "id": "bg_m_yhiydzu"
      },
      "execution_count": null,
      "outputs": []
    }
  ]
}